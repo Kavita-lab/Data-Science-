{
 "cells": [
  {
   "cell_type": "markdown",
   "metadata": {},
   "source": [
    "# Implimentation of Linkedlist"
   ]
  },
  {
   "cell_type": "code",
   "execution_count": 1,
   "metadata": {},
   "outputs": [],
   "source": [
    "class Node:\n",
    "    def __init__(self, data=None ,next=None):\n",
    "        self.data=data\n",
    "        self.next=next"
   ]
  },
  {
   "cell_type": "code",
   "execution_count": 112,
   "metadata": {},
   "outputs": [],
   "source": [
    "class Linkedlist:\n",
    "    def __init__(self):\n",
    "        self.head=None\n",
    "    def insert_begin(self,data):\n",
    "        node=Node(data,self.head)\n",
    "        self.head=node\n",
    "        \n",
    "    def print(self):\n",
    "        if self.head is None:\n",
    "            print(\" EMPTY\")\n",
    "        p=self.head\n",
    "        list=''\n",
    "        while p:\n",
    "            list+= str(p.data)+ '-->'\n",
    "            p=p.next\n",
    "        print(list)    \n",
    "    def insert_end(self,data):\n",
    "        if self.head is None:\n",
    "            self.head=Node(data,None)\n",
    "            return\n",
    "        p=self.head\n",
    "        while p.next:\n",
    "            p=p.next\n",
    "        p.next=Node(data,None)\n",
    "    def insert_value(self,data_list):\n",
    "        self.head=None\n",
    "        for data in data_list:\n",
    "            self.insert_end(data)\n",
    "    def count_element(self):\n",
    "        count=0\n",
    "        p=self.head\n",
    "        while p:\n",
    "            count+=1\n",
    "            p=p.next\n",
    "    \n",
    "        return count\n",
    "    \n",
    "    \n",
    "    def delete_at(self,index):\n",
    "        if index < 0 or index >= self.count_element():\n",
    "            raise_exception(\"invalid  Index\")\n",
    "        if index == 0:\n",
    "            self.head=self.head.next\n",
    "            return\n",
    "        count=0\n",
    "        p=self.head\n",
    "        while p:\n",
    "            if count== index-1:\n",
    "                p.next=p.next.next\n",
    "                break\n",
    "            p=p.next\n",
    "            count+=1\n",
    "            \n",
    "    def insert_at(self, index,data):\n",
    "            if index <0 or index >= self.count_element():\n",
    "                raise_Exception(\"Invalid index\")\n",
    "            if index==0:\n",
    "                self.insert_begin(data)\n",
    "                return\n",
    "            count=0\n",
    "            p=self.head\n",
    "            while p:\n",
    "                if count ==index-1:\n",
    "                    p.next=Node(data,p.next)\n",
    "                    break\n",
    "                    \n",
    "                p=p.next\n",
    "                count+=1\n",
    "        \n",
    "    def insert_after_value(self,value,data):\n",
    "        if self.head is None:\n",
    "            self.head=Node(data,None)\n",
    "        p=self.head\n",
    "        while p:\n",
    "            if p.data == value:\n",
    "                p.next=Node(data,p.next)\n",
    "            p=p.next\n",
    "            \n",
    "            \n",
    "    def remove_by_value(self,data):\n",
    "        q=0\n",
    "        p=self.head\n",
    "        \n",
    "        while p:\n",
    "            if p.data== data:\n",
    "                q.next=p.next   \n",
    "            q=p\n",
    "            p=p.next\n",
    "          \n",
    "       \n",
    "            "
   ]
  },
  {
   "cell_type": "code",
   "execution_count": 113,
   "metadata": {},
   "outputs": [
    {
     "name": "stdout",
     "output_type": "stream",
     "text": [
      "Number of elements in l2:  5\n",
      "35-->100-->kina-->45-->892-->\n",
      "kavita-->sona-->Aluu-->deepika-->pochu-->\n"
     ]
    }
   ],
   "source": [
    "if __name__ == '__main__':\n",
    "    l1=Linkedlist()\n",
    "    l2=Linkedlist()\n",
    "    l1.insert_begin(45)\n",
    "    l1.insert_begin(100)\n",
    "    l1.insert_begin(35)\n",
    "    l2.insert_value(['kavita','sona','hina','buta','pochu'])\n",
    "    l1.insert_end(892)\n",
    "    print(\"Number of elements in l2: \" ,l2.count_element())\n",
    "    l2.insert_at(4,'Aluu')\n",
    "    l2.insert_after_value('Aluu','deepika')\n",
    "    l2.remove_by_value('buta')\n",
    "    l1.insert_at(2,'kina')\n",
    "    l2.delete_at(2)\n",
    "    l1.print()\n",
    "    l2.print()"
   ]
  },
  {
   "cell_type": "code",
   "execution_count": null,
   "metadata": {},
   "outputs": [],
   "source": []
  },
  {
   "cell_type": "code",
   "execution_count": null,
   "metadata": {},
   "outputs": [],
   "source": []
  },
  {
   "cell_type": "code",
   "execution_count": null,
   "metadata": {},
   "outputs": [],
   "source": []
  },
  {
   "cell_type": "code",
   "execution_count": null,
   "metadata": {},
   "outputs": [],
   "source": []
  },
  {
   "cell_type": "code",
   "execution_count": null,
   "metadata": {},
   "outputs": [],
   "source": []
  }
 ],
 "metadata": {
  "kernelspec": {
   "display_name": "Python 3",
   "language": "python",
   "name": "python3"
  },
  "language_info": {
   "codemirror_mode": {
    "name": "ipython",
    "version": 3
   },
   "file_extension": ".py",
   "mimetype": "text/x-python",
   "name": "python",
   "nbconvert_exporter": "python",
   "pygments_lexer": "ipython3",
   "version": "3.7.1"
  }
 },
 "nbformat": 4,
 "nbformat_minor": 2
}
